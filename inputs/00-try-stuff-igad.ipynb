{
 "cells": [
  {
   "cell_type": "code",
   "execution_count": 17,
   "metadata": {},
   "outputs": [],
   "source": [
    "from enum import IntEnum\n",
    "\n",
    "class RPSAction(IntEnum):\n",
    "    rock = 1\n",
    "    paper = 2\n",
    "    scissors = 3\n",
    "\n",
    "def rps_play( action1, action2 ):\n",
    "\n",
    "    if action1 == action2:\n",
    "        print('tie')\n",
    "    elif (action1.value + 1)%3 == action2%3:\n",
    "        print('action2 wins')\n",
    "    else:\n",
    "        print('action1 wins')\n",
    "    \n",
    "    return 0\n"
   ]
  },
  {
   "cell_type": "code",
   "execution_count": 18,
   "metadata": {},
   "outputs": [
    {
     "name": "stdout",
     "output_type": "stream",
     "text": [
      "action2 wins\n"
     ]
    },
    {
     "data": {
      "text/plain": [
       "0"
      ]
     },
     "execution_count": 18,
     "metadata": {},
     "output_type": "execute_result"
    }
   ],
   "source": [
    "rps_play(RPSAction.paper, RPSAction.scissors)\n"
   ]
  },
  {
   "cell_type": "code",
   "execution_count": 26,
   "metadata": {},
   "outputs": [
    {
     "data": {
      "text/plain": [
       "[[-3, 0], [-2, 1], [-1, 2], [0, 0], [1, 1], [2, 2], [3, 0]]"
      ]
     },
     "execution_count": 26,
     "metadata": {},
     "output_type": "execute_result"
    }
   ],
   "source": [
    "[[i, i%3] for i in range(-3,4,1)]"
   ]
  },
  {
   "cell_type": "code",
   "execution_count": 44,
   "metadata": {},
   "outputs": [],
   "source": [
    "def letter_to_priority( char ):\n",
    "    priority = 0 \n",
    "    if (ord(char)>=65) and (ord(char)<=90):\n",
    "        priority = ord(char) - 65 + 26 + 1\n",
    "    elif (ord(char)>=97) and (ord(char)<=122):\n",
    "        priority = ord(char) - 97 + 1\n",
    "    return priority"
   ]
  },
  {
   "cell_type": "code",
   "execution_count": 64,
   "metadata": {},
   "outputs": [
    {
     "name": "stdout",
     "output_type": "stream",
     "text": [
      "['p']\n"
     ]
    }
   ],
   "source": [
    "pack1 = list(\"vJrwpWtwJgWr\" )\n",
    "pack2 = set(\"hcsFMMfFFhFp\" )\n",
    "common_items = []\n",
    "for i in pack1:\n",
    "    if i in pack2:\n",
    "        common_items.append(i)\n",
    "print(common_items)\n"
   ]
  },
  {
   "cell_type": "code",
   "execution_count": 68,
   "metadata": {},
   "outputs": [
    {
     "name": "stdout",
     "output_type": "stream",
     "text": [
      "[1, 2]\n",
      "[1]\n",
      "[]\n"
     ]
    },
    {
     "ename": "IndexError",
     "evalue": "pop from empty list",
     "output_type": "error",
     "traceback": [
      "\u001b[1;31m---------------------------------------------------------------------------\u001b[0m",
      "\u001b[1;31mIndexError\u001b[0m                                Traceback (most recent call last)",
      "\u001b[1;32me:\\Dropbox\\py_projects\\adventofcode\\inputs\\00-try-stuff-igad.ipynb Cell 6\u001b[0m in \u001b[0;36m<cell line: 8>\u001b[1;34m()\u001b[0m\n\u001b[0;32m      <a href='vscode-notebook-cell:/e%3A/Dropbox/py_projects/adventofcode/inputs/00-try-stuff-igad.ipynb#W6sZmlsZQ%3D%3D?line=5'>6</a>\u001b[0m test\u001b[39m.\u001b[39mpop()\n\u001b[0;32m      <a href='vscode-notebook-cell:/e%3A/Dropbox/py_projects/adventofcode/inputs/00-try-stuff-igad.ipynb#W6sZmlsZQ%3D%3D?line=6'>7</a>\u001b[0m \u001b[39mprint\u001b[39m(test)\n\u001b[1;32m----> <a href='vscode-notebook-cell:/e%3A/Dropbox/py_projects/adventofcode/inputs/00-try-stuff-igad.ipynb#W6sZmlsZQ%3D%3D?line=7'>8</a>\u001b[0m test\u001b[39m.\u001b[39;49mpop()\n\u001b[0;32m      <a href='vscode-notebook-cell:/e%3A/Dropbox/py_projects/adventofcode/inputs/00-try-stuff-igad.ipynb#W6sZmlsZQ%3D%3D?line=8'>9</a>\u001b[0m \u001b[39mprint\u001b[39m(test)\n",
      "\u001b[1;31mIndexError\u001b[0m: pop from empty list"
     ]
    }
   ],
   "source": [
    "test = [1,2,3]\n",
    "test.pop()\n",
    "print(test)\n",
    "test.pop()\n",
    "print(test)\n",
    "test.pop()\n",
    "print(test)\n",
    "test.pop()\n",
    "print(test)"
   ]
  },
  {
   "cell_type": "code",
   "execution_count": 95,
   "metadata": {},
   "outputs": [
    {
     "name": "stdout",
     "output_type": "stream",
     "text": [
      "g\n",
      "set()\n"
     ]
    }
   ],
   "source": [
    "class Dir():\n",
    "    def __init__(self, name) -> None:\n",
    "        self.name = name\n",
    "        self.size = 0\n",
    "        self.parent = None\n",
    "        self.contains = set()\n",
    "        \n",
    "test = 'game...game'\n",
    "testset = {}\n",
    "ct = Dir('g')\n",
    "testset['g'] = ct\n",
    "\n",
    "for i,c in enumerate(test):\n",
    "    ct = Dir(c)\n",
    "    ct.contains.add(f'content {i}')\n",
    "for k,t in testset.items():\n",
    "    print(t.name)\n",
    "    print(t.contains)"
   ]
  },
  {
   "cell_type": "code",
   "execution_count": 100,
   "metadata": {},
   "outputs": [
    {
     "name": "stdout",
     "output_type": "stream",
     "text": [
      "c\n",
      "b\n",
      "a\n",
      "/\n"
     ]
    }
   ],
   "source": [
    "nl = ['/','a', 'b','c']\n",
    "while nl:\n",
    "    print(nl.pop())"
   ]
  },
  {
   "cell_type": "code",
   "execution_count": null,
   "metadata": {},
   "outputs": [],
   "source": []
  }
 ],
 "metadata": {
  "kernelspec": {
   "display_name": "Python 3.9.13 ('datasci-39')",
   "language": "python",
   "name": "python3"
  },
  "language_info": {
   "codemirror_mode": {
    "name": "ipython",
    "version": 3
   },
   "file_extension": ".py",
   "mimetype": "text/x-python",
   "name": "python",
   "nbconvert_exporter": "python",
   "pygments_lexer": "ipython3",
   "version": "3.9.13 | packaged by conda-forge | (main, May 27 2022, 16:50:36) [MSC v.1929 64 bit (AMD64)]"
  },
  "orig_nbformat": 4,
  "vscode": {
   "interpreter": {
    "hash": "4deadce5ff6bf13cf153ca1f5c48d31e78cb25f4bb3a54b51e9a7d71f22ba9a3"
   }
  }
 },
 "nbformat": 4,
 "nbformat_minor": 2
}
