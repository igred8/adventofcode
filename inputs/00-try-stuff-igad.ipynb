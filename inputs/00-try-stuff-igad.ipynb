{
 "cells": [
  {
   "cell_type": "code",
   "execution_count": 17,
   "metadata": {},
   "outputs": [],
   "source": [
    "from enum import IntEnum\n",
    "\n",
    "class RPSAction(IntEnum):\n",
    "    rock = 1\n",
    "    paper = 2\n",
    "    scissors = 3\n",
    "\n",
    "def rps_play( action1, action2 ):\n",
    "\n",
    "    if action1 == action2:\n",
    "        print('tie')\n",
    "    elif (action1.value + 1)%3 == action2%3:\n",
    "        print('action2 wins')\n",
    "    else:\n",
    "        print('action1 wins')\n",
    "    \n",
    "    return 0\n"
   ]
  },
  {
   "cell_type": "code",
   "execution_count": 18,
   "metadata": {},
   "outputs": [
    {
     "name": "stdout",
     "output_type": "stream",
     "text": [
      "action2 wins\n"
     ]
    },
    {
     "data": {
      "text/plain": [
       "0"
      ]
     },
     "execution_count": 18,
     "metadata": {},
     "output_type": "execute_result"
    }
   ],
   "source": [
    "rps_play(RPSAction.paper, RPSAction.scissors)\n"
   ]
  },
  {
   "cell_type": "code",
   "execution_count": 26,
   "metadata": {},
   "outputs": [
    {
     "data": {
      "text/plain": [
       "[[-3, 0], [-2, 1], [-1, 2], [0, 0], [1, 1], [2, 2], [3, 0]]"
      ]
     },
     "execution_count": 26,
     "metadata": {},
     "output_type": "execute_result"
    }
   ],
   "source": [
    "[[i, i%3] for i in range(-3,4,1)]"
   ]
  },
  {
   "cell_type": "code",
   "execution_count": 44,
   "metadata": {},
   "outputs": [],
   "source": [
    "def letter_to_priority( char ):\n",
    "    priority = 0 \n",
    "    if (ord(char)>=65) and (ord(char)<=90):\n",
    "        priority = ord(char) - 65 + 26 + 1\n",
    "    elif (ord(char)>=97) and (ord(char)<=122):\n",
    "        priority = ord(char) - 97 + 1\n",
    "    return priority"
   ]
  },
  {
   "cell_type": "code",
   "execution_count": 54,
   "metadata": {},
   "outputs": [
    {
     "data": {
      "text/plain": [
       "[False,\n",
       " False,\n",
       " False,\n",
       " False,\n",
       " False,\n",
       " False,\n",
       " False,\n",
       " False,\n",
       " False,\n",
       " False,\n",
       " False,\n",
       " False]"
      ]
     },
     "execution_count": 54,
     "metadata": {},
     "output_type": "execute_result"
    }
   ],
   "source": [
    "[a==b for a,b in zip(list(\"vJrwpWtwJgWr\" ), list(\"hcsFMMfFFhFp\"))]\n"
   ]
  },
  {
   "cell_type": "code",
   "execution_count": 43,
   "metadata": {},
   "outputs": [
    {
     "data": {
      "text/plain": [
       "122"
      ]
     },
     "execution_count": 43,
     "metadata": {},
     "output_type": "execute_result"
    }
   ],
   "source": [
    "ord('z')"
   ]
  },
  {
   "cell_type": "code",
   "execution_count": null,
   "metadata": {},
   "outputs": [],
   "source": []
  }
 ],
 "metadata": {
  "kernelspec": {
   "display_name": "Python 3.9.13 ('datasci-39')",
   "language": "python",
   "name": "python3"
  },
  "language_info": {
   "codemirror_mode": {
    "name": "ipython",
    "version": 3
   },
   "file_extension": ".py",
   "mimetype": "text/x-python",
   "name": "python",
   "nbconvert_exporter": "python",
   "pygments_lexer": "ipython3",
   "version": "3.9.13"
  },
  "orig_nbformat": 4,
  "vscode": {
   "interpreter": {
    "hash": "4deadce5ff6bf13cf153ca1f5c48d31e78cb25f4bb3a54b51e9a7d71f22ba9a3"
   }
  }
 },
 "nbformat": 4,
 "nbformat_minor": 2
}
