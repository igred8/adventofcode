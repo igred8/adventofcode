{
 "cells": [
  {
   "cell_type": "code",
   "execution_count": 17,
   "metadata": {},
   "outputs": [],
   "source": [
    "from enum import IntEnum\n",
    "\n",
    "class RPSAction(IntEnum):\n",
    "    rock = 1\n",
    "    paper = 2\n",
    "    scissors = 3\n",
    "\n",
    "def rps_play( action1, action2 ):\n",
    "\n",
    "    if action1 == action2:\n",
    "        print('tie')\n",
    "    elif (action1.value + 1)%3 == action2%3:\n",
    "        print('action2 wins')\n",
    "    else:\n",
    "        print('action1 wins')\n",
    "    \n",
    "    return 0\n"
   ]
  },
  {
   "cell_type": "code",
   "execution_count": 18,
   "metadata": {},
   "outputs": [
    {
     "name": "stdout",
     "output_type": "stream",
     "text": [
      "action2 wins\n"
     ]
    },
    {
     "data": {
      "text/plain": [
       "0"
      ]
     },
     "execution_count": 18,
     "metadata": {},
     "output_type": "execute_result"
    }
   ],
   "source": [
    "rps_play(RPSAction.paper, RPSAction.scissors)\n"
   ]
  },
  {
   "cell_type": "code",
   "execution_count": 26,
   "metadata": {},
   "outputs": [
    {
     "data": {
      "text/plain": [
       "[[-3, 0], [-2, 1], [-1, 2], [0, 0], [1, 1], [2, 2], [3, 0]]"
      ]
     },
     "execution_count": 26,
     "metadata": {},
     "output_type": "execute_result"
    }
   ],
   "source": [
    "[[i, i%3] for i in range(-3,4,1)]"
   ]
  },
  {
   "cell_type": "code",
   "execution_count": 44,
   "metadata": {},
   "outputs": [],
   "source": [
    "def letter_to_priority( char ):\n",
    "    priority = 0 \n",
    "    if (ord(char)>=65) and (ord(char)<=90):\n",
    "        priority = ord(char) - 65 + 26 + 1\n",
    "    elif (ord(char)>=97) and (ord(char)<=122):\n",
    "        priority = ord(char) - 97 + 1\n",
    "    return priority"
   ]
  },
  {
   "cell_type": "code",
   "execution_count": 64,
   "metadata": {},
   "outputs": [
    {
     "name": "stdout",
     "output_type": "stream",
     "text": [
      "['p']\n"
     ]
    }
   ],
   "source": [
    "pack1 = list(\"vJrwpWtwJgWr\" )\n",
    "pack2 = set(\"hcsFMMfFFhFp\" )\n",
    "common_items = []\n",
    "for i in pack1:\n",
    "    if i in pack2:\n",
    "        common_items.append(i)\n",
    "print(common_items)\n"
   ]
  },
  {
   "cell_type": "code",
   "execution_count": 68,
   "metadata": {},
   "outputs": [
    {
     "name": "stdout",
     "output_type": "stream",
     "text": [
      "[1, 2]\n",
      "[1]\n",
      "[]\n"
     ]
    },
    {
     "ename": "IndexError",
     "evalue": "pop from empty list",
     "output_type": "error",
     "traceback": [
      "\u001b[1;31m---------------------------------------------------------------------------\u001b[0m",
      "\u001b[1;31mIndexError\u001b[0m                                Traceback (most recent call last)",
      "\u001b[1;32me:\\Dropbox\\py_projects\\adventofcode\\inputs\\00-try-stuff-igad.ipynb Cell 6\u001b[0m in \u001b[0;36m<cell line: 8>\u001b[1;34m()\u001b[0m\n\u001b[0;32m      <a href='vscode-notebook-cell:/e%3A/Dropbox/py_projects/adventofcode/inputs/00-try-stuff-igad.ipynb#W6sZmlsZQ%3D%3D?line=5'>6</a>\u001b[0m test\u001b[39m.\u001b[39mpop()\n\u001b[0;32m      <a href='vscode-notebook-cell:/e%3A/Dropbox/py_projects/adventofcode/inputs/00-try-stuff-igad.ipynb#W6sZmlsZQ%3D%3D?line=6'>7</a>\u001b[0m \u001b[39mprint\u001b[39m(test)\n\u001b[1;32m----> <a href='vscode-notebook-cell:/e%3A/Dropbox/py_projects/adventofcode/inputs/00-try-stuff-igad.ipynb#W6sZmlsZQ%3D%3D?line=7'>8</a>\u001b[0m test\u001b[39m.\u001b[39;49mpop()\n\u001b[0;32m      <a href='vscode-notebook-cell:/e%3A/Dropbox/py_projects/adventofcode/inputs/00-try-stuff-igad.ipynb#W6sZmlsZQ%3D%3D?line=8'>9</a>\u001b[0m \u001b[39mprint\u001b[39m(test)\n",
      "\u001b[1;31mIndexError\u001b[0m: pop from empty list"
     ]
    }
   ],
   "source": [
    "test = [1,2,3]\n",
    "test.pop()\n",
    "print(test)\n",
    "test.pop()\n",
    "print(test)\n",
    "test.pop()\n",
    "print(test)\n",
    "test.pop()\n",
    "print(test)"
   ]
  },
  {
   "cell_type": "code",
   "execution_count": 4,
   "metadata": {},
   "outputs": [
    {
     "name": "stdout",
     "output_type": "stream",
     "text": [
      "g\n",
      "set()\n"
     ]
    }
   ],
   "source": [
    "class Dir():\n",
    "    def __init__(self, name) -> None:\n",
    "        self.name = name\n",
    "        self.size = 0\n",
    "        self.parent = None\n",
    "        self.contains = set()\n",
    "        \n",
    "test = 'game...game'\n",
    "testset = {}\n",
    "ct = Dir('g')\n",
    "testset['g'] = ct\n",
    "\n",
    "for i,c in enumerate(test):\n",
    "    ct = Dir(c)\n",
    "    ct.contains.add(f'content {i}')\n",
    "for k,t in testset.items():\n",
    "    print(t.name)\n",
    "    print(t.contains)"
   ]
  },
  {
   "cell_type": "code",
   "execution_count": 100,
   "metadata": {},
   "outputs": [
    {
     "name": "stdout",
     "output_type": "stream",
     "text": [
      "c\n",
      "b\n",
      "a\n",
      "/\n"
     ]
    }
   ],
   "source": [
    "nl = ['/','a', 'b','c']\n",
    "while nl:\n",
    "    print(nl.pop())"
   ]
  },
  {
   "cell_type": "code",
   "execution_count": 5,
   "metadata": {},
   "outputs": [],
   "source": [
    "t = set([Dir('1'),'a','g', 1])"
   ]
  },
  {
   "cell_type": "code",
   "execution_count": 6,
   "metadata": {},
   "outputs": [
    {
     "name": "stdout",
     "output_type": "stream",
     "text": [
      "<class 'str'>\n",
      "<class 'str'>\n",
      "<class '__main__.Dir'>\n",
      "<class 'int'>\n"
     ]
    }
   ],
   "source": [
    "for i in t:\n",
    "    print(type(i))"
   ]
  },
  {
   "cell_type": "code",
   "execution_count": 1,
   "metadata": {},
   "outputs": [],
   "source": [
    "class Coordinate:\n",
    "    def __init__(self, lat: float, long: float) -> None:\n",
    "        self._latitude = self._longitude = None\n",
    "        self.latitude = lat\n",
    "        self.longitude = long\n",
    "    @property\n",
    "    def latitude(self) -> float:\n",
    "        return self._latitude\n",
    "    @latitude.setter\n",
    "    def latitude(self, lat_value: float) -> None:\n",
    "        if lat_value not in range(-90, 90 + 1):\n",
    "            raise ValueError(f\"{lat_value} is an invalid value for latitude\")\n",
    "        self._latitude = lat_value\n",
    "    @property\n",
    "    def longitude(self) -> float:\n",
    "        return self._longitude\n",
    "    @longitude.setter\n",
    "    def longitude(self, long_value: float) -> None:\n",
    "        if long_value not in range(-180, 180 + 1):\n",
    "            raise ValueError(f\"{long_value} is an invalid value for longitude\")\n",
    "        self._longitude = long_value"
   ]
  },
  {
   "cell_type": "code",
   "execution_count": 13,
   "metadata": {},
   "outputs": [
    {
     "ename": "ValueError",
     "evalue": "9.9 is an invalid value for latitude",
     "output_type": "error",
     "traceback": [
      "\u001b[1;31m---------------------------------------------------------------------------\u001b[0m",
      "\u001b[1;31mValueError\u001b[0m                                Traceback (most recent call last)",
      "\u001b[1;32me:\\Dropbox\\py_projects\\adventofcode\\inputs\\00-try-stuff-igad.ipynb Cell 12\u001b[0m in \u001b[0;36m<cell line: 1>\u001b[1;34m()\u001b[0m\n\u001b[1;32m----> <a href='vscode-notebook-cell:/e%3A/Dropbox/py_projects/adventofcode/inputs/00-try-stuff-igad.ipynb#X14sZmlsZQ%3D%3D?line=0'>1</a>\u001b[0m cc \u001b[39m=\u001b[39m Coordinate(\u001b[39m9.9\u001b[39;49m, \u001b[39m33\u001b[39;49m)\n",
      "\u001b[1;32me:\\Dropbox\\py_projects\\adventofcode\\inputs\\00-try-stuff-igad.ipynb Cell 12\u001b[0m in \u001b[0;36mCoordinate.__init__\u001b[1;34m(self, lat, long)\u001b[0m\n\u001b[0;32m      <a href='vscode-notebook-cell:/e%3A/Dropbox/py_projects/adventofcode/inputs/00-try-stuff-igad.ipynb#X14sZmlsZQ%3D%3D?line=1'>2</a>\u001b[0m \u001b[39mdef\u001b[39;00m \u001b[39m__init__\u001b[39m(\u001b[39mself\u001b[39m, lat: \u001b[39mfloat\u001b[39m, long: \u001b[39mfloat\u001b[39m) \u001b[39m-\u001b[39m\u001b[39m>\u001b[39m \u001b[39mNone\u001b[39;00m:\n\u001b[0;32m      <a href='vscode-notebook-cell:/e%3A/Dropbox/py_projects/adventofcode/inputs/00-try-stuff-igad.ipynb#X14sZmlsZQ%3D%3D?line=2'>3</a>\u001b[0m     \u001b[39mself\u001b[39m\u001b[39m.\u001b[39m_latitude \u001b[39m=\u001b[39m \u001b[39mself\u001b[39m\u001b[39m.\u001b[39m_longitude \u001b[39m=\u001b[39m \u001b[39mNone\u001b[39;00m\n\u001b[1;32m----> <a href='vscode-notebook-cell:/e%3A/Dropbox/py_projects/adventofcode/inputs/00-try-stuff-igad.ipynb#X14sZmlsZQ%3D%3D?line=3'>4</a>\u001b[0m     \u001b[39mself\u001b[39m\u001b[39m.\u001b[39mlatitude \u001b[39m=\u001b[39m lat\n\u001b[0;32m      <a href='vscode-notebook-cell:/e%3A/Dropbox/py_projects/adventofcode/inputs/00-try-stuff-igad.ipynb#X14sZmlsZQ%3D%3D?line=4'>5</a>\u001b[0m     \u001b[39mself\u001b[39m\u001b[39m.\u001b[39mlongitude \u001b[39m=\u001b[39m long\n",
      "\u001b[1;32me:\\Dropbox\\py_projects\\adventofcode\\inputs\\00-try-stuff-igad.ipynb Cell 12\u001b[0m in \u001b[0;36mCoordinate.latitude\u001b[1;34m(self, lat_value)\u001b[0m\n\u001b[0;32m      <a href='vscode-notebook-cell:/e%3A/Dropbox/py_projects/adventofcode/inputs/00-try-stuff-igad.ipynb#X14sZmlsZQ%3D%3D?line=8'>9</a>\u001b[0m \u001b[39m@latitude\u001b[39m\u001b[39m.\u001b[39msetter\n\u001b[0;32m     <a href='vscode-notebook-cell:/e%3A/Dropbox/py_projects/adventofcode/inputs/00-try-stuff-igad.ipynb#X14sZmlsZQ%3D%3D?line=9'>10</a>\u001b[0m \u001b[39mdef\u001b[39;00m \u001b[39mlatitude\u001b[39m(\u001b[39mself\u001b[39m, lat_value: \u001b[39mfloat\u001b[39m) \u001b[39m-\u001b[39m\u001b[39m>\u001b[39m \u001b[39mNone\u001b[39;00m:\n\u001b[0;32m     <a href='vscode-notebook-cell:/e%3A/Dropbox/py_projects/adventofcode/inputs/00-try-stuff-igad.ipynb#X14sZmlsZQ%3D%3D?line=10'>11</a>\u001b[0m     \u001b[39mif\u001b[39;00m lat_value \u001b[39mnot\u001b[39;00m \u001b[39min\u001b[39;00m \u001b[39mrange\u001b[39m(\u001b[39m-\u001b[39m\u001b[39m90\u001b[39m, \u001b[39m90\u001b[39m \u001b[39m+\u001b[39m \u001b[39m1\u001b[39m):\n\u001b[1;32m---> <a href='vscode-notebook-cell:/e%3A/Dropbox/py_projects/adventofcode/inputs/00-try-stuff-igad.ipynb#X14sZmlsZQ%3D%3D?line=11'>12</a>\u001b[0m         \u001b[39mraise\u001b[39;00m \u001b[39mValueError\u001b[39;00m(\u001b[39mf\u001b[39m\u001b[39m\"\u001b[39m\u001b[39m{\u001b[39;00mlat_value\u001b[39m}\u001b[39;00m\u001b[39m is an invalid value for latitude\u001b[39m\u001b[39m\"\u001b[39m)\n\u001b[0;32m     <a href='vscode-notebook-cell:/e%3A/Dropbox/py_projects/adventofcode/inputs/00-try-stuff-igad.ipynb#X14sZmlsZQ%3D%3D?line=12'>13</a>\u001b[0m     \u001b[39mself\u001b[39m\u001b[39m.\u001b[39m_latitude \u001b[39m=\u001b[39m lat_value\n",
      "\u001b[1;31mValueError\u001b[0m: 9.9 is an invalid value for latitude"
     ]
    }
   ],
   "source": [
    "cc = Coordinate(9.9, 33)\n",
    "# cc.latitude=44"
   ]
  },
  {
   "cell_type": "code",
   "execution_count": 11,
   "metadata": {},
   "outputs": [
    {
     "data": {
      "text/plain": [
       "44"
      ]
     },
     "execution_count": 11,
     "metadata": {},
     "output_type": "execute_result"
    }
   ],
   "source": [
    "cc.latitude"
   ]
  },
  {
   "cell_type": "code",
   "execution_count": 2,
   "metadata": {},
   "outputs": [
    {
     "data": {
      "text/plain": [
       "array([0, 1])"
      ]
     },
     "execution_count": 2,
     "metadata": {},
     "output_type": "execute_result"
    }
   ],
   "source": [
    "import numpy as np\n",
    "test = np.array([1,3])\n",
    "(test > 2) * (np.array([1,1]))"
   ]
  },
  {
   "cell_type": "code",
   "execution_count": 26,
   "metadata": {},
   "outputs": [
    {
     "name": "stdout",
     "output_type": "stream",
     "text": [
      "[100 102]\n"
     ]
    }
   ],
   "source": [
    "def changetest( t ):\n",
    "    t +=  99\n",
    "    return t\n",
    "\n",
    "\n",
    "tt = changetest(test)\n",
    "print(test)"
   ]
  },
  {
   "cell_type": "code",
   "execution_count": 28,
   "metadata": {},
   "outputs": [
    {
     "data": {
      "text/plain": [
       "(100, 102)"
      ]
     },
     "execution_count": 28,
     "metadata": {},
     "output_type": "execute_result"
    }
   ],
   "source": [
    "tuple(tt)"
   ]
  },
  {
   "cell_type": "code",
   "execution_count": 27,
   "metadata": {},
   "outputs": [
    {
     "ename": "IndexError",
     "evalue": "index 900 is out of bounds for axis 0 with size 10",
     "output_type": "error",
     "traceback": [
      "\u001b[1;31m---------------------------------------------------------------------------\u001b[0m",
      "\u001b[1;31mIndexError\u001b[0m                                Traceback (most recent call last)",
      "\u001b[1;32me:\\Dropbox\\py_projects\\adventofcode\\inputs\\00-try-stuff-igad.ipynb Cell 17\u001b[0m in \u001b[0;36m<cell line: 9>\u001b[1;34m()\u001b[0m\n\u001b[0;32m      <a href='vscode-notebook-cell:/e%3A/Dropbox/py_projects/adventofcode/inputs/00-try-stuff-igad.ipynb#X22sZmlsZQ%3D%3D?line=6'>7</a>\u001b[0m t11 \u001b[39m=\u001b[39m np\u001b[39m.\u001b[39marange(\u001b[39m0\u001b[39m,\u001b[39m10\u001b[39m,\u001b[39m1\u001b[39m)\n\u001b[0;32m      <a href='vscode-notebook-cell:/e%3A/Dropbox/py_projects/adventofcode/inputs/00-try-stuff-igad.ipynb#X22sZmlsZQ%3D%3D?line=7'>8</a>\u001b[0m t11 \u001b[39m=\u001b[39m np\u001b[39m.\u001b[39marray([ i\u001b[39m*\u001b[39mt11 \u001b[39mfor\u001b[39;00m i \u001b[39min\u001b[39;00m \u001b[39mrange\u001b[39m(\u001b[39m10\u001b[39m)])\n\u001b[1;32m----> <a href='vscode-notebook-cell:/e%3A/Dropbox/py_projects/adventofcode/inputs/00-try-stuff-igad.ipynb#X22sZmlsZQ%3D%3D?line=8'>9</a>\u001b[0m t11[\u001b[39mlist\u001b[39;49m(t1)]\n",
      "\u001b[1;31mIndexError\u001b[0m: index 900 is out of bounds for axis 0 with size 10"
     ]
    }
   ],
   "source": [
    "t1 = np.array([900,0])\n",
    "t2 = np.array([0,30])\n",
    "sum(t1 == t2)\n",
    "np.all(t1 == t2)\n",
    "\n",
    "\n",
    "t11 = np.arange(0,10,1)\n",
    "t11 = np.array([ i*t11 for i in range(10)])\n",
    "t11[list(t1)]"
   ]
  },
  {
   "cell_type": "code",
   "execution_count": 88,
   "metadata": {},
   "outputs": [
    {
     "name": "stdout",
     "output_type": "stream",
     "text": [
      "Monkey 0\n",
      "[79, 98]\n",
      "Monkey 1\n",
      "[54, 65, 75, 74]\n",
      "Monkey 2\n",
      "[79, 60, 97]\n",
      "Monkey 3\n"
     ]
    },
    {
     "ename": "AttributeError",
     "evalue": "'int' object has no attribute 'split'",
     "output_type": "error",
     "traceback": [
      "\u001b[1;31m---------------------------------------------------------------------------\u001b[0m",
      "\u001b[1;31mAttributeError\u001b[0m                            Traceback (most recent call last)",
      "\u001b[1;32me:\\Dropbox\\py_projects\\adventofcode\\inputs\\00-try-stuff-igad.ipynb Cell 18\u001b[0m in \u001b[0;36m<cell line: 4>\u001b[1;34m()\u001b[0m\n\u001b[0;32m      <a href='vscode-notebook-cell:/e%3A/Dropbox/py_projects/adventofcode/inputs/00-try-stuff-igad.ipynb#X23sZmlsZQ%3D%3D?line=5'>6</a>\u001b[0m name \u001b[39m=\u001b[39m \u001b[39mlist\u001b[39m(monkey)[\u001b[39m0\u001b[39m]\n\u001b[0;32m      <a href='vscode-notebook-cell:/e%3A/Dropbox/py_projects/adventofcode/inputs/00-try-stuff-igad.ipynb#X23sZmlsZQ%3D%3D?line=6'>7</a>\u001b[0m \u001b[39mprint\u001b[39m(name)\n\u001b[1;32m----> <a href='vscode-notebook-cell:/e%3A/Dropbox/py_projects/adventofcode/inputs/00-try-stuff-igad.ipynb#X23sZmlsZQ%3D%3D?line=7'>8</a>\u001b[0m si \u001b[39m=\u001b[39m monkey[name][\u001b[39m\"\u001b[39;49m\u001b[39mStarting items\u001b[39;49m\u001b[39m\"\u001b[39;49m]\u001b[39m.\u001b[39;49msplit(\u001b[39m'\u001b[39m\u001b[39m,\u001b[39m\u001b[39m'\u001b[39m)\n\u001b[0;32m      <a href='vscode-notebook-cell:/e%3A/Dropbox/py_projects/adventofcode/inputs/00-try-stuff-igad.ipynb#X23sZmlsZQ%3D%3D?line=8'>9</a>\u001b[0m si \u001b[39m=\u001b[39m [\u001b[39mint\u001b[39m(s\u001b[39m.\u001b[39mstrip()) \u001b[39mfor\u001b[39;00m s \u001b[39min\u001b[39;00m si]\n\u001b[0;32m     <a href='vscode-notebook-cell:/e%3A/Dropbox/py_projects/adventofcode/inputs/00-try-stuff-igad.ipynb#X23sZmlsZQ%3D%3D?line=9'>10</a>\u001b[0m \u001b[39mprint\u001b[39m(si)\n",
      "\u001b[1;31mAttributeError\u001b[0m: 'int' object has no attribute 'split'"
     ]
    }
   ],
   "source": [
    "import yaml\n",
    "\n",
    "filename = \"E:/Dropbox/py_projects/adventofcode/inputs/11.1_input.yaml\"\n",
    "with open(filename) as file:\n",
    "    for monkey in  yaml.safe_load_all( file ):\n",
    "        name = list(monkey)[0]\n",
    "        print(name)\n",
    "        si = monkey[name][\"Starting items\"].split(',')\n",
    "        si = [int(s.strip()) for s in si]\n",
    "        print(si)"
   ]
  },
  {
   "cell_type": "markdown",
   "metadata": {},
   "source": []
  },
  {
   "cell_type": "code",
   "execution_count": 106,
   "metadata": {},
   "outputs": [],
   "source": [
    "for _ in range(100_000):\n",
    "    (123456789*9**10000) % 19"
   ]
  },
  {
   "cell_type": "code",
   "execution_count": 67,
   "metadata": {},
   "outputs": [],
   "source": [
    "import numpy as np\n",
    "import matplotlib.pyplot as plt\n",
    "\n",
    "fn = \"E:/Dropbox/py_projects/adventofcode/inputs/12_output.txt\"\n",
    "travelmap = np.loadtxt(fn)\n",
    "fn = \"E:/Dropbox/py_projects/adventofcode/inputs/12_output-alt.txt\"\n",
    "altmap = np.loadtxt(fn)\n"
   ]
  },
  {
   "cell_type": "code",
   "execution_count": 75,
   "metadata": {},
   "outputs": [
    {
     "data": {
      "text/plain": [
       "<matplotlib.colorbar.Colorbar at 0x2977b0a7460>"
      ]
     },
     "execution_count": 75,
     "metadata": {},
     "output_type": "execute_result"
    },
    {
     "data": {
      "image/png": "[encoded data removed]",
      "text/plain": [
       "<Figure size 1166.4x720 with 2 Axes>"
      ]
     },
     "metadata": {
      "needs_background": "light"
     },
     "output_type": "display_data"
    }
   ],
   "source": [
    "fig, ax = plt.subplots(figsize=[16.2,10])\n",
    "im = ax.imshow(travelmap[:,80:], vmin=0,vmax=5000, aspect=1, interpolation='none', cmap='viridis')\n",
    "\n",
    "# create an Axes on the right side of ax. The width of cax will be 5%\n",
    "# of ax and the padding between cax and ax will be fixed at 0.05 inch.\n",
    "divider = make_axes_locatable(ax)\n",
    "cax = divider.append_axes(\"right\", size=\"5%\", pad=0.05)\n",
    "\n",
    "plt.colorbar(im, cax=cax)"
   ]
  },
  {
   "cell_type": "code",
   "execution_count": 76,
   "metadata": {},
   "outputs": [
    {
     "data": {
      "text/plain": [
       "<matplotlib.colorbar.Colorbar at 0x2977b160640>"
      ]
     },
     "execution_count": 76,
     "metadata": {},
     "output_type": "execute_result"
    },
    {
     "data": {
      "image/png": "[encoded data removed]",
      "text/plain": [
       "<Figure size 1166.4x720 with 2 Axes>"
      ]
     },
     "metadata": {
      "needs_background": "light"
     },
     "output_type": "display_data"
    }
   ],
   "source": [
    "from mpl_toolkits.axes_grid1 import make_axes_locatable\n",
    "\n",
    "fig, ax = plt.subplots(figsize=[16.2,10])\n",
    "im = ax.imshow(altmap[:,80:], vmin=0, vmax=25, aspect=1, interpolation='none', cmap='tab20c')\n",
    "\n",
    "# create an Axes on the right side of ax. The width of cax will be 5%\n",
    "# of ax and the padding between cax and ax will be fixed at 0.05 inch.\n",
    "divider = make_axes_locatable(ax)\n",
    "cax = divider.append_axes(\"right\", size=\"5%\", pad=0.05)\n",
    "\n",
    "plt.colorbar(im, cax=cax)"
   ]
  },
  {
   "cell_type": "code",
   "execution_count": null,
   "metadata": {},
   "outputs": [],
   "source": []
  }
 ],
 "metadata": {
  "kernelspec": {
   "display_name": "Python 3.9.13 ('datasci-39')",
   "language": "python",
   "name": "python3"
  },
  "language_info": {
   "codemirror_mode": {
    "name": "ipython",
    "version": 3
   },
   "file_extension": ".py",
   "mimetype": "text/x-python",
   "name": "python",
   "nbconvert_exporter": "python",
   "pygments_lexer": "ipython3",
   "version": "3.9.13"
  },
  "orig_nbformat": 4,
  "vscode": {
   "interpreter": {
    "hash": "4deadce5ff6bf13cf153ca1f5c48d31e78cb25f4bb3a54b51e9a7d71f22ba9a3"
   }
  }
 },
 "nbformat": 4,
 "nbformat_minor": 2
}
